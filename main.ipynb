{
 "cells": [
  {
   "cell_type": "markdown",
   "source": [
    "## Download dataset\n",
    "\n",
    "- https://www.kaggle.com/competitions/word2vec-nlp-tutorial/data\n",
    "- Place the decompressed labeledrainData.tsv, testData.tsv, and unlabeledTrainData.tsv datasets in the data directory\n",
    "\n",
    "## Use TF-IDF features for classification\n",
    "- Directly run the TF-IDF.ipynb file\n",
    "\n",
    "## Use word2vec features for classification\n",
    "- Directly run the word2vec.ipynb file\n",
    "\n",
    "## Use word2vec features and LSTM for classification\n",
    "- Directly run the LSTM.ipynb file\n",
    "\n",
    "## Use word2vec features extracted by the word2vec model trained on all labeled and unlabeled data and LSTM for classification\n",
    "- Directly run the LSTM_with_all_data.ipynb file\n",
    "\n",
    "\n",
    "\n",
    "The model files of word2vec and LSTM will be saved to the modal folder\n",
    "\n",
    "The prediction results of Kaggle's unlabeled test set will be saved in the out folder"
   ],
   "metadata": {
    "collapsed": false,
    "pycharm": {
     "name": "#%% md\n"
    }
   }
  }
 ],
 "metadata": {
  "kernelspec": {
   "display_name": "Python 3",
   "language": "python",
   "name": "python3"
  },
  "language_info": {
   "codemirror_mode": {
    "name": "ipython",
    "version": 2
   },
   "file_extension": ".py",
   "mimetype": "text/x-python",
   "name": "python",
   "nbconvert_exporter": "python",
   "pygments_lexer": "ipython2",
   "version": "2.7.6"
  }
 },
 "nbformat": 4,
 "nbformat_minor": 0
}